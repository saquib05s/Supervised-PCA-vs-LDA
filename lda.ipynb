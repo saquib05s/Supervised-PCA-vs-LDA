{
 "cells": [
  {
   "cell_type": "code",
   "execution_count": 37,
   "metadata": {
    "executionInfo": {
     "elapsed": 145,
     "status": "ok",
     "timestamp": 1649362862343,
     "user": {
      "displayName": "Dhruv codes",
      "userId": "13709433292686290794"
     },
     "user_tz": 240
    },
    "id": "rLdOaUd73Jzw"
   },
   "outputs": [],
   "source": [
    "#applying LDA\n",
    "import numpy as np"
   ]
  },
  {
   "cell_type": "code",
   "execution_count": 64,
   "metadata": {
    "executionInfo": {
     "elapsed": 1326,
     "status": "ok",
     "timestamp": 1649373533965,
     "user": {
      "displayName": "Dhruv codes",
      "userId": "13709433292686290794"
     },
     "user_tz": 240
    },
    "id": "ZXktw6l34HAA"
   },
   "outputs": [],
   "source": [
    "from keras.datasets import mnist\n",
    "import numpy as np\n",
    "from sklearn.model_selection import train_test_split\n",
    "\n",
    "(x_train, y_train), (x_test, y_test) = mnist.load_data()\n",
    "x = np.concatenate((x_train[0:30000,:,:], x_test))\n",
    "y = np.concatenate((y_train[0:30000], y_test))\n",
    "\n",
    "train_size = 0.7\n",
    "x_train, x_test, y_train, y_test = train_test_split(x, y, train_size=train_size)\n",
    "nx_train = []\n",
    "\n",
    "for i in range(len(x_train)):\n",
    "  nx_train.append(x_train[i].flatten())\n",
    "\n",
    "nx_test = []\n",
    "\n",
    "for i in range(len(x_test)):\n",
    "  nx_test.append(x_test[i].flatten())\n",
    "  \n",
    "from sklearn.preprocessing import StandardScaler\n",
    "\n",
    "sc = StandardScaler()\n",
    "x_train = sc.fit_transform(nx_train)\n",
    "x_test = sc.transform(nx_test)\n"
   ]
  },
  {
   "cell_type": "code",
   "execution_count": 65,
   "metadata": {
    "executionInfo": {
     "elapsed": 16119,
     "status": "ok",
     "timestamp": 1649373685344,
     "user": {
      "displayName": "Dhruv codes",
      "userId": "13709433292686290794"
     },
     "user_tz": 240
    },
    "id": "rf_eo4j_6Uo1"
   },
   "outputs": [],
   "source": [
    "\n",
    "from sklearn.discriminant_analysis import LinearDiscriminantAnalysis as LDA\n",
    "\n",
    "lda = LDA(n_components=9)\n",
    "clf = lda.fit(x_train, y_train)\n",
    "dnnx_train = clf.transform(x_train)\n",
    "dnnx_test = clf.transform(x_test)\n"
   ]
  },
  {
   "cell_type": "code",
   "execution_count": 66,
   "metadata": {
    "executionInfo": {
     "elapsed": 137,
     "status": "ok",
     "timestamp": 1649373593485,
     "user": {
      "displayName": "Dhruv codes",
      "userId": "13709433292686290794"
     },
     "user_tz": 240
    },
    "id": "pgXfT7m4R9oa"
   },
   "outputs": [],
   "source": [
    "import tensorflow as tf\n",
    "dnny_train = tf.keras.utils.to_categorical(y_train)\n",
    "dnny_test = tf.keras.utils.to_categorical(y_test)"
   ]
  },
  {
   "cell_type": "code",
   "execution_count": 63,
   "metadata": {},
   "outputs": [
    {
     "data": {
      "text/plain": [
       "(28000, 9)"
      ]
     },
     "execution_count": 63,
     "metadata": {},
     "output_type": "execute_result"
    }
   ],
   "source": []
  },
  {
   "cell_type": "code",
   "execution_count": 67,
   "metadata": {
    "executionInfo": {
     "elapsed": 304,
     "status": "ok",
     "timestamp": 1649373844409,
     "user": {
      "displayName": "Dhruv codes",
      "userId": "13709433292686290794"
     },
     "user_tz": 240
    },
    "id": "SoOuDYNGb_Ar"
   },
   "outputs": [],
   "source": [
    "import keras as K\n",
    "model = K.models.Sequential()\n",
    "model.add(K.layers.Dense(units=50, input_dim=9,\n",
    "  activation='relu'))\n",
    "model.add(K.layers.Dense(units=150,\n",
    "  activation='relu'))\n",
    "model.add(K.layers.Dense(units=300,\n",
    "  activation='relu'))\n",
    "model.add(K.layers.Dense(units=200,\n",
    "  activation='relu'))\n",
    "model.add(K.layers.Dense(units=70,\n",
    "  activation='relu'))\n",
    "model.add(K.layers.Dense(units=10,\n",
    "  activation='softmax'))\n",
    "model.compile(loss='categorical_crossentropy',\n",
    "  optimizer='adam', metrics=['accuracy'])"
   ]
  },
  {
   "cell_type": "code",
   "execution_count": 68,
   "metadata": {
    "executionInfo": {
     "elapsed": 35681,
     "status": "ok",
     "timestamp": 1649373885439,
     "user": {
      "displayName": "Dhruv codes",
      "userId": "13709433292686290794"
     },
     "user_tz": 240
    },
    "id": "mFz-n7x1c0a6"
   },
   "outputs": [],
   "source": [
    "num_epochs = 20\n",
    "h = model.fit(dnnx_train, dnny_train, batch_size=50,\n",
    "  epochs=num_epochs, verbose= 0) "
   ]
  },
  {
   "cell_type": "code",
   "execution_count": 70,
   "metadata": {
    "colab": {
     "base_uri": "https://localhost:8080/"
    },
    "executionInfo": {
     "elapsed": 1113,
     "status": "ok",
     "timestamp": 1649373896857,
     "user": {
      "displayName": "Dhruv codes",
      "userId": "13709433292686290794"
     },
     "user_tz": 240
    },
    "id": "i2Z-lI9adQeq",
    "outputId": "a9e7c704-7ddb-4bb5-e10c-a1f889dfc665"
   },
   "outputs": [
    {
     "name": "stdout",
     "output_type": "stream",
     "text": [
      "\n",
      "Evaluation on test data: \n",
      "loss = 0.4072     accuracy = 90.36%\n",
      "\n",
      "End MNIST DNN demo \n",
      "\n"
     ]
    }
   ],
   "source": [
    "eval = model.evaluate(dnnx_test, dnny_test, verbose=0)\n",
    "print(\"\\nEvaluation on test data: \\nloss = %0.4f \\\n",
    "    accuracy = %0.2f%%\" % (eval[0], eval[1]*100) )\n",
    "\n",
    "print(\"\\nEnd MNIST DNN demo \\n\")"
   ]
  },
  {
   "cell_type": "code",
   "execution_count": 69,
   "metadata": {},
   "outputs": [],
   "source": [
    "pca = {'loss': [1.0392507314682007,\n",
    "  0.43876829743385315,\n",
    "  0.33726438879966736,\n",
    "  0.28150200843811035,\n",
    "  0.24298085272312164,\n",
    "  0.2129761129617691,\n",
    "  0.19136855006217957,\n",
    "  0.17623019218444824,\n",
    "  0.15284590423107147,\n",
    "  0.144240140914917,\n",
    "  0.13299766182899475,\n",
    "  0.12376990914344788,\n",
    "  0.11571568250656128,\n",
    "  0.10973378270864487,\n",
    "  0.09858272224664688,\n",
    "  0.0949983224272728,\n",
    "  0.0831093043088913,\n",
    "  0.08517984300851822,\n",
    "  0.08449683338403702,\n",
    "  0.07493533194065094],\n",
    " 'accuracy': [0.7443000078201294,\n",
    "  0.8647333383560181,\n",
    "  0.891700029373169,\n",
    "  0.9095666408538818,\n",
    "  0.921833336353302,\n",
    "  0.9304333329200745,\n",
    "  0.93586665391922,\n",
    "  0.9412333369255066,\n",
    "  0.9501333236694336,\n",
    "  0.9521999955177307,\n",
    "  0.9563999772071838,\n",
    "  0.9579333066940308,\n",
    "  0.9610999822616577,\n",
    "  0.9641000032424927,\n",
    "  0.9679666757583618,\n",
    "  0.9689666628837585,\n",
    "  0.9725333452224731,\n",
    "  0.9736999869346619,\n",
    "  0.974133312702179,\n",
    "  0.9763666391372681]}"
   ]
  },
  {
   "cell_type": "code",
   "execution_count": 71,
   "metadata": {},
   "outputs": [
    {
     "data": {
      "text/plain": [
       "<matplotlib.legend.Legend at 0x20604e83d90>"
      ]
     },
     "execution_count": 71,
     "metadata": {},
     "output_type": "execute_result"
    },
    {
     "data": {
      "image/png": "[encoded data removed]",
      "text/plain": [
       "<Figure size 720x504 with 1 Axes>"
      ]
     },
     "metadata": {
      "needs_background": "light"
     },
     "output_type": "display_data"
    }
   ],
   "source": [
    "import matplotlib.pyplot as plt\n",
    "\n",
    "fig, ax = plt.subplots(figsize=(10,7))\n",
    "\n",
    "ax.plot(h.history['accuracy'], label='LDA', c='r')\n",
    "ax.plot(pca['accuracy'], label='sPCA', c='b')\n",
    "ax.set_xlabel('No of epochs')\n",
    "ax.set_xlim(-1,21)\n",
    "ax.set_ylabel('Accuracy')\n",
    "ax.set_title('Comparison of Training Performance')\n",
    "ax.legend()\n",
    "# plt.savefig(\"accuracyEP_20_D_30000.png\")"
   ]
  },
  {
   "cell_type": "code",
   "execution_count": 72,
   "metadata": {},
   "outputs": [
    {
     "data": {
      "image/png": "[encoded data removed]",
      "text/plain": [
       "<Figure size 720x504 with 1 Axes>"
      ]
     },
     "metadata": {
      "needs_background": "light"
     },
     "output_type": "display_data"
    }
   ],
   "source": [
    "fig, ax = plt.subplots(figsize=(10,7))\n",
    "\n",
    "ax.plot(h.history['loss'], label='LDA', c='r')\n",
    "ax.plot(pca['loss'], label='sPCA', c='b')\n",
    "ax.set_xlabel('No of epochs')\n",
    "ax.set_xlim(-1,11)\n",
    "ax.set_ylabel('Categorical Crossentropy')\n",
    "ax.set_title('Comparison of Loss improvements')\n",
    "ax.legend()\n",
    "\n",
    "plt.show()\n",
    "# plt.savefig(\"lossEP_20_D_30000.png\")"
   ]
  },
  {
   "cell_type": "code",
   "execution_count": null,
   "metadata": {},
   "outputs": [],
   "source": []
  }
 ],
 "metadata": {
  "colab": {
   "authorship_tag": "ABX9TyNBntTGCStAHLaMy2hDmXHk",
   "mount_file_id": "1z50lc1cX38ZY2xTOb9Klc7PlWi-Jzr-g",
   "name": "Untitled3.ipynb",
   "provenance": []
  },
  "kernelspec": {
   "display_name": "Python 3 (ipykernel)",
   "language": "python",
   "name": "python3"
  },
  "language_info": {
   "codemirror_mode": {
    "name": "ipython",
    "version": 3
   },
   "file_extension": ".py",
   "mimetype": "text/x-python",
   "name": "python",
   "nbconvert_exporter": "python",
   "pygments_lexer": "ipython3",
   "version": "3.10.2"
  }
 },
 "nbformat": 4,
 "nbformat_minor": 4
}
